{
 "cells": [
  {
   "cell_type": "markdown",
   "metadata": {},
   "source": [
    "# Introduction to Bingo\n",
    "Bingo is an open source package for performing symbolic regression, Though it \n",
    "can be used as a general purpose evolutionary optimization package.  \n",
    "\n",
    "### Key Features\n",
    "  * Integrated local optimization strategies\n",
    "  * Parallel island evolution strategy implemented with mpi4py\n",
    "  * Coevolution of fitness predictors"
   ]
  },
  {
   "cell_type": "code",
   "execution_count": 1,
   "metadata": {},
   "outputs": [],
   "source": [
    "import numpy as np"
   ]
  },
  {
   "cell_type": "code",
   "execution_count": 2,
   "metadata": {},
   "outputs": [],
   "source": [
    "from bingo.Base.FitnessFunction import FitnessFunction\n",
    "from bingo.Base.ContinuousLocalOptimization import ContinuousLocalOptimization\n",
    "from bingo.Base.Evaluation import Evaluation\n",
    "\n",
    "class ZeroMinFitnessFunction(FitnessFunction):\n",
    "    def __call__(self, individual):\n",
    "        return np.linalg.norm(individual.values)\n",
    "\n",
    "                              \n",
    "fitness = ZeroMinFitnessFunction()\n",
    "local_opt_fitness = ContinuousLocalOptimization(fitness)\n",
    "evaluator = Evaluation(local_opt_fitness)"
   ]
  },
  {
   "cell_type": "code",
   "execution_count": 3,
   "metadata": {},
   "outputs": [],
   "source": [
    "import numpy as np\n",
    "from bingo.Base.MultipleValues import SinglePointCrossover\n",
    "from bingo.Base.MultipleValues import SinglePointMutation\n",
    "\n",
    "def get_random_float():\n",
    "    return np.random.random_sample()\n",
    "\n",
    "crossover = SinglePointCrossover()\n",
    "mutation = SinglePointMutation(get_random_float)"
   ]
  },
  {
   "cell_type": "code",
   "execution_count": 4,
   "metadata": {},
   "outputs": [],
   "source": [
    "from bingo.Base.TournamentSelection import Tournament\n",
    "\n",
    "GOAL_POPULATION_SIZE = 25\n",
    "\n",
    "selection = Tournament(GOAL_POPULATION_SIZE)"
   ]
  },
  {
   "cell_type": "code",
   "execution_count": 5,
   "metadata": {},
   "outputs": [],
   "source": [
    "from bingo.Base.MuPlusLambdaEA import MuPlusLambda\n",
    "\n",
    "MUTATION_PROBABILITY = 0.4\n",
    "CROSSOVER_PROBABILITY = 0.4\n",
    "NUM_OFFSPRING = GOAL_POPULATION_SIZE\n",
    "\n",
    "evo_alg = MuPlusLambda(evaluator,\n",
    "                       selection,\n",
    "                       crossover,\n",
    "                       mutation,\n",
    "                       CROSSOVER_PROBABILITY,\n",
    "                       MUTATION_PROBABILITY,\n",
    "                       NUM_OFFSPRING)"
   ]
  },
  {
   "cell_type": "code",
   "execution_count": 6,
   "metadata": {},
   "outputs": [],
   "source": [
    "from bingo.Base.MultipleFloats import MultipleFloatChromosomeGenerator\n",
    "\n",
    "VALUE_LIST_SIZE = 8\n",
    "\n",
    "generator = MultipleFloatChromosomeGenerator(get_random_float, VALUE_LIST_SIZE)"
   ]
  },
  {
   "cell_type": "code",
   "execution_count": 7,
   "metadata": {},
   "outputs": [],
   "source": [
    "from bingo.Base.Island import Island\n",
    "\n",
    "POPULATION_SIZE = 25\n",
    "\n",
    "island = Island(evo_alg, generator, POPULATION_SIZE)"
   ]
  },
  {
   "cell_type": "code",
   "execution_count": 8,
   "metadata": {},
   "outputs": [],
   "source": [
    "def print_population(island):\n",
    "    for i, indv in enumerate(island.population):\n",
    "            print(\"indv\", i, [\"{0:.2f}\".format(val) for val in indv.values])"
   ]
  },
  {
   "cell_type": "code",
   "execution_count": 9,
   "metadata": {},
   "outputs": [
    {
     "name": "stdout",
     "output_type": "stream",
     "text": [
      "indv 0 ['0.05', '0.26', '0.83', '0.94', '0.80', '0.31', '0.77', '0.21']\n",
      "indv 1 ['0.12', '0.78', '0.71', '0.75', '0.82', '0.32', '0.81', '0.35']\n",
      "indv 2 ['0.22', '0.44', '0.01', '0.19', '0.18', '0.68', '0.20', '0.63']\n",
      "indv 3 ['0.75', '0.97', '0.66', '0.34', '0.35', '0.91', '0.93', '0.71']\n",
      "indv 4 ['0.81', '0.56', '0.57', '0.37', '0.65', '0.21', '0.25', '0.19']\n",
      "indv 5 ['0.37', '0.32', '0.71', '0.40', '0.61', '0.60', '0.11', '0.23']\n",
      "indv 6 ['0.49', '0.43', '0.47', '0.64', '0.17', '0.27', '0.38', '0.23']\n",
      "indv 7 ['0.91', '0.94', '0.45', '0.33', '0.98', '0.99', '0.66', '0.97']\n",
      "indv 8 ['0.13', '0.30', '0.90', '0.52', '0.07', '0.12', '0.48', '0.07']\n",
      "indv 9 ['0.63', '0.05', '0.55', '0.17', '0.10', '0.87', '0.04', '0.20']\n",
      "indv 10 ['0.03', '0.48', '0.77', '0.06', '0.28', '0.00', '0.97', '0.70']\n",
      "indv 11 ['0.63', '0.50', '0.36', '0.77', '0.39', '0.59', '0.00', '0.26']\n",
      "indv 12 ['0.14', '0.54', '0.97', '0.12', '0.75', '0.70', '0.80', '0.11']\n",
      "indv 13 ['0.13', '0.36', '0.25', '0.99', '0.76', '0.90', '0.64', '0.94']\n",
      "indv 14 ['0.45', '0.66', '0.20', '0.32', '0.87', '0.25', '0.93', '0.55']\n",
      "indv 15 ['0.54', '0.52', '0.95', '0.94', '0.59', '0.29', '0.42', '0.38']\n",
      "indv 16 ['0.73', '0.40', '0.29', '0.91', '0.41', '0.02', '0.61', '0.30']\n",
      "indv 17 ['0.86', '0.18', '0.77', '0.93', '0.44', '0.84', '0.70', '0.65']\n",
      "indv 18 ['0.42', '0.50', '0.68', '0.11', '0.43', '0.26', '0.36', '0.59']\n",
      "indv 19 ['0.83', '0.61', '0.25', '0.10', '0.53', '0.60', '0.89', '0.63']\n",
      "indv 20 ['0.55', '0.27', '0.58', '0.34', '0.66', '0.70', '0.57', '0.66']\n",
      "indv 21 ['0.06', '0.02', '0.68', '0.65', '0.58', '0.76', '0.22', '0.28']\n",
      "indv 22 ['0.66', '0.52', '0.75', '0.69', '0.76', '0.38', '0.62', '0.49']\n",
      "indv 23 ['0.10', '0.42', '0.58', '0.19', '0.62', '0.13', '0.06', '0.50']\n",
      "indv 24 ['0.92', '0.26', '0.82', '0.08', '0.06', '0.43', '0.31', '0.12']\n"
     ]
    }
   ],
   "source": [
    "print_population(island)"
   ]
  },
  {
   "cell_type": "code",
   "execution_count": 10,
   "metadata": {},
   "outputs": [],
   "source": [
    "for i in range(500):\n",
    "    island.execute_generational_step()"
   ]
  },
  {
   "cell_type": "code",
   "execution_count": null,
   "metadata": {},
   "outputs": [],
   "source": []
  },
  {
   "cell_type": "code",
   "execution_count": 11,
   "metadata": {},
   "outputs": [
    {
     "name": "stdout",
     "output_type": "stream",
     "text": [
      "indv 0 ['0.00', '0.00', '0.00', '0.00', '0.00', '0.00', '0.00', '0.00']\n",
      "indv 1 ['0.00', '0.00', '0.00', '0.00', '0.00', '0.00', '0.00', '0.00']\n",
      "indv 2 ['0.00', '0.00', '0.00', '0.00', '0.00', '0.00', '0.00', '0.00']\n",
      "indv 3 ['0.00', '0.00', '0.00', '0.00', '0.00', '0.00', '0.00', '0.00']\n",
      "indv 4 ['0.00', '0.00', '0.00', '0.00', '0.00', '0.00', '0.00', '0.00']\n",
      "indv 5 ['0.00', '0.00', '0.00', '0.00', '0.00', '0.00', '0.00', '0.00']\n",
      "indv 6 ['0.00', '0.00', '0.00', '0.00', '0.00', '0.00', '0.00', '0.00']\n",
      "indv 7 ['0.00', '0.00', '0.00', '0.00', '0.00', '0.00', '0.00', '0.00']\n",
      "indv 8 ['0.00', '0.00', '0.00', '0.00', '0.00', '0.00', '0.00', '0.00']\n",
      "indv 9 ['0.00', '0.00', '0.00', '0.00', '0.00', '0.00', '0.00', '0.00']\n",
      "indv 10 ['0.00', '0.00', '0.00', '0.00', '0.00', '0.00', '0.00', '0.00']\n",
      "indv 11 ['0.00', '0.00', '0.00', '0.00', '0.00', '0.00', '0.00', '0.00']\n",
      "indv 12 ['0.00', '0.00', '0.00', '0.00', '0.00', '0.00', '0.00', '0.00']\n",
      "indv 13 ['0.00', '0.00', '0.00', '0.00', '0.00', '0.00', '0.00', '0.00']\n",
      "indv 14 ['0.00', '0.00', '0.00', '0.00', '0.00', '0.00', '0.00', '0.00']\n",
      "indv 15 ['0.00', '0.00', '0.00', '0.00', '0.00', '0.00', '0.00', '0.00']\n",
      "indv 16 ['0.00', '0.00', '0.00', '0.00', '0.00', '0.00', '0.00', '0.00']\n",
      "indv 17 ['0.00', '0.00', '0.00', '0.00', '0.00', '0.00', '0.00', '0.00']\n",
      "indv 18 ['0.00', '0.00', '0.00', '0.00', '0.00', '0.00', '0.00', '0.00']\n",
      "indv 19 ['0.00', '0.00', '0.00', '0.00', '0.00', '0.00', '0.00', '0.00']\n",
      "indv 20 ['0.00', '0.00', '0.00', '0.00', '0.00', '0.00', '0.00', '0.00']\n",
      "indv 21 ['0.00', '0.00', '0.00', '0.00', '0.00', '0.00', '0.00', '0.00']\n",
      "indv 22 ['0.00', '0.00', '0.00', '0.00', '0.00', '0.00', '0.00', '0.00']\n",
      "indv 23 ['0.00', '0.00', '0.00', '0.00', '0.00', '0.00', '0.00', '0.00']\n",
      "indv 24 ['0.00', '0.00', '0.00', '0.00', '0.00', '0.00', '0.00', '0.00']\n"
     ]
    }
   ],
   "source": [
    "print_population(island)"
   ]
  },
  {
   "cell_type": "code",
   "execution_count": 12,
   "metadata": {},
   "outputs": [],
   "source": [
    "from bingo.SymbolicRegression.ExplicitRegression import ExplicitTrainingData\n",
    "\n",
    "NUM_POINTS = 100\n",
    "START = -10\n",
    "STOP = 10\n",
    "\n",
    "x = np.linspace(START, STOP, NUM_POINTS).reshape([-1, 1])\n",
    "y = x**2 + 3.5*x**3\n",
    "training_data = ExplicitTrainingData(x, y)"
   ]
  },
  {
   "cell_type": "code",
   "execution_count": 13,
   "metadata": {},
   "outputs": [],
   "source": [
    "from bingo.SymbolicRegression.ExplicitRegression import ExplicitRegression\n",
    "\n",
    "fitness = ExplicitRegression(training_data=training_data)\n",
    "local_opt_fitness = ContinuousLocalOptimization(fitness, algorithm='lm')\n",
    "evaluator = Evaluation(local_opt_fitness)"
   ]
  },
  {
   "cell_type": "code",
   "execution_count": 14,
   "metadata": {},
   "outputs": [],
   "source": [
    "from bingo.SymbolicRegression.AGraph.ComponentGenerator import ComponentGenerator\n",
    "\n",
    "ADD = 2\n",
    "SUB = 3\n",
    "MULT = 4\n",
    "\n",
    "component_generator = ComponentGenerator(x.shape[1])\n",
    "component_generator.add_operator(ADD)\n",
    "component_generator.add_operator(SUB)\n",
    "component_generator.add_operator(MULT)"
   ]
  },
  {
   "cell_type": "code",
   "execution_count": 15,
   "metadata": {},
   "outputs": [],
   "source": [
    "from bingo.SymbolicRegression.AGraph.AGraphCrossover import AGraphCrossover\n",
    "from bingo.SymbolicRegression.AGraph.AGraphMutation import AGraphMutation\n",
    "\n",
    "crossover = AGraphCrossover()\n",
    "mutation = AGraphMutation(component_generator)"
   ]
  },
  {
   "cell_type": "code",
   "execution_count": 27,
   "metadata": {},
   "outputs": [],
   "source": [
    "from bingo.SymbolicRegression.AGraph.AGraphGenerator import AGraphGenerator\n",
    "\n",
    "POP_SIZE = 128\n",
    "STACK_SIZE = 10\n",
    "ERROR_TOLERANCE = 1e-6\n",
    "\n",
    "agraph_generator = AGraphGenerator(STACK_SIZE, component_generator)"
   ]
  },
  {
   "cell_type": "code",
   "execution_count": 28,
   "metadata": {},
   "outputs": [],
   "source": [
    "from bingo.Base.AgeFitnessEA import AgeFitnessEA\n",
    "\n",
    "ea = AgeFitnessEA(evaluator, agraph_generator, crossover,\n",
    "                      mutation, MUTATION_PROBABILITY,\n",
    "                      CROSSOVER_PROBABILITY, POP_SIZE)\n",
    "\n",
    "island = Island(ea, agraph_generator, POP_SIZE)"
   ]
  },
  {
   "cell_type": "code",
   "execution_count": null,
   "metadata": {},
   "outputs": [],
   "source": []
  },
  {
   "cell_type": "code",
   "execution_count": 30,
   "metadata": {},
   "outputs": [
    {
     "name": "stdout",
     "output_type": "stream",
     "text": [
      "Generation:  1\n",
      "Success! (3.5)(((X_0)(X_0))(X_0)) + (X_0)(X_0)\n"
     ]
    }
   ],
   "source": [
    "i = 1\n",
    "while island.best_individual().fitness > ERROR_TOLERANCE:\n",
    "    island.execute_generational_step()\n",
    "    i += 1\n",
    "\n",
    "print(\"Generation: \", i)\n",
    "print(\"Success!\", island.best_individual().get_latex_string())"
   ]
  },
  {
   "cell_type": "code",
   "execution_count": null,
   "metadata": {},
   "outputs": [],
   "source": []
  },
  {
   "cell_type": "code",
   "execution_count": null,
   "metadata": {},
   "outputs": [],
   "source": []
  }
 ],
 "metadata": {
  "kernelspec": {
   "display_name": "Python 3",
   "language": "python",
   "name": "python3"
  },
  "language_info": {
   "codemirror_mode": {
    "name": "ipython",
    "version": 3
   },
   "file_extension": ".py",
   "mimetype": "text/x-python",
   "name": "python",
   "nbconvert_exporter": "python",
   "pygments_lexer": "ipython3",
   "version": "3.6.8"
  }
 },
 "nbformat": 4,
 "nbformat_minor": 2
}
